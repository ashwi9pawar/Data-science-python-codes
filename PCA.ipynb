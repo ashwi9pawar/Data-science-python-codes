{
 "cells": [
  {
   "cell_type": "code",
   "execution_count": 1,
   "metadata": {},
   "outputs": [],
   "source": [
    "import pandas as pd \n",
    "import numpy as np\n"
   ]
  },
  {
   "cell_type": "code",
   "execution_count": 2,
   "metadata": {},
   "outputs": [],
   "source": [
    "uni = pd.read_csv(\"Universities.csv\")\n"
   ]
  },
  {
   "cell_type": "code",
   "execution_count": 3,
   "metadata": {},
   "outputs": [
    {
     "data": {
      "text/html": [
       "<div>\n",
       "<style scoped>\n",
       "    .dataframe tbody tr th:only-of-type {\n",
       "        vertical-align: middle;\n",
       "    }\n",
       "\n",
       "    .dataframe tbody tr th {\n",
       "        vertical-align: top;\n",
       "    }\n",
       "\n",
       "    .dataframe thead th {\n",
       "        text-align: right;\n",
       "    }\n",
       "</style>\n",
       "<table border=\"1\" class=\"dataframe\">\n",
       "  <thead>\n",
       "    <tr style=\"text-align: right;\">\n",
       "      <th></th>\n",
       "      <th>SAT</th>\n",
       "      <th>Top10</th>\n",
       "      <th>Accept</th>\n",
       "      <th>SFRatio</th>\n",
       "      <th>Expenses</th>\n",
       "      <th>GradRate</th>\n",
       "    </tr>\n",
       "  </thead>\n",
       "  <tbody>\n",
       "    <tr>\n",
       "      <th>count</th>\n",
       "      <td>25.000000</td>\n",
       "      <td>25.000000</td>\n",
       "      <td>25.000000</td>\n",
       "      <td>25.00000</td>\n",
       "      <td>25.000000</td>\n",
       "      <td>25.000000</td>\n",
       "    </tr>\n",
       "    <tr>\n",
       "      <th>mean</th>\n",
       "      <td>1266.440000</td>\n",
       "      <td>76.480000</td>\n",
       "      <td>39.200000</td>\n",
       "      <td>12.72000</td>\n",
       "      <td>27388.000000</td>\n",
       "      <td>86.720000</td>\n",
       "    </tr>\n",
       "    <tr>\n",
       "      <th>std</th>\n",
       "      <td>108.359771</td>\n",
       "      <td>19.433905</td>\n",
       "      <td>19.727308</td>\n",
       "      <td>4.06735</td>\n",
       "      <td>14424.883165</td>\n",
       "      <td>9.057778</td>\n",
       "    </tr>\n",
       "    <tr>\n",
       "      <th>min</th>\n",
       "      <td>1005.000000</td>\n",
       "      <td>28.000000</td>\n",
       "      <td>14.000000</td>\n",
       "      <td>6.00000</td>\n",
       "      <td>8704.000000</td>\n",
       "      <td>67.000000</td>\n",
       "    </tr>\n",
       "    <tr>\n",
       "      <th>25%</th>\n",
       "      <td>1240.000000</td>\n",
       "      <td>74.000000</td>\n",
       "      <td>24.000000</td>\n",
       "      <td>11.00000</td>\n",
       "      <td>15140.000000</td>\n",
       "      <td>81.000000</td>\n",
       "    </tr>\n",
       "    <tr>\n",
       "      <th>50%</th>\n",
       "      <td>1285.000000</td>\n",
       "      <td>81.000000</td>\n",
       "      <td>36.000000</td>\n",
       "      <td>12.00000</td>\n",
       "      <td>27553.000000</td>\n",
       "      <td>90.000000</td>\n",
       "    </tr>\n",
       "    <tr>\n",
       "      <th>75%</th>\n",
       "      <td>1340.000000</td>\n",
       "      <td>90.000000</td>\n",
       "      <td>50.000000</td>\n",
       "      <td>14.00000</td>\n",
       "      <td>34870.000000</td>\n",
       "      <td>94.000000</td>\n",
       "    </tr>\n",
       "    <tr>\n",
       "      <th>max</th>\n",
       "      <td>1415.000000</td>\n",
       "      <td>100.000000</td>\n",
       "      <td>90.000000</td>\n",
       "      <td>25.00000</td>\n",
       "      <td>63575.000000</td>\n",
       "      <td>97.000000</td>\n",
       "    </tr>\n",
       "  </tbody>\n",
       "</table>\n",
       "</div>"
      ],
      "text/plain": [
       "               SAT       Top10     Accept   SFRatio      Expenses   GradRate\n",
       "count    25.000000   25.000000  25.000000  25.00000     25.000000  25.000000\n",
       "mean   1266.440000   76.480000  39.200000  12.72000  27388.000000  86.720000\n",
       "std     108.359771   19.433905  19.727308   4.06735  14424.883165   9.057778\n",
       "min    1005.000000   28.000000  14.000000   6.00000   8704.000000  67.000000\n",
       "25%    1240.000000   74.000000  24.000000  11.00000  15140.000000  81.000000\n",
       "50%    1285.000000   81.000000  36.000000  12.00000  27553.000000  90.000000\n",
       "75%    1340.000000   90.000000  50.000000  14.00000  34870.000000  94.000000\n",
       "max    1415.000000  100.000000  90.000000  25.00000  63575.000000  97.000000"
      ]
     },
     "execution_count": 3,
     "metadata": {},
     "output_type": "execute_result"
    }
   ],
   "source": [
    "uni.describe()\n"
   ]
  },
  {
   "cell_type": "code",
   "execution_count": 4,
   "metadata": {},
   "outputs": [
    {
     "data": {
      "text/html": [
       "<div>\n",
       "<style scoped>\n",
       "    .dataframe tbody tr th:only-of-type {\n",
       "        vertical-align: middle;\n",
       "    }\n",
       "\n",
       "    .dataframe tbody tr th {\n",
       "        vertical-align: top;\n",
       "    }\n",
       "\n",
       "    .dataframe thead th {\n",
       "        text-align: right;\n",
       "    }\n",
       "</style>\n",
       "<table border=\"1\" class=\"dataframe\">\n",
       "  <thead>\n",
       "    <tr style=\"text-align: right;\">\n",
       "      <th></th>\n",
       "      <th>Univ</th>\n",
       "      <th>SAT</th>\n",
       "      <th>Top10</th>\n",
       "      <th>Accept</th>\n",
       "      <th>SFRatio</th>\n",
       "      <th>Expenses</th>\n",
       "      <th>GradRate</th>\n",
       "    </tr>\n",
       "  </thead>\n",
       "  <tbody>\n",
       "    <tr>\n",
       "      <th>0</th>\n",
       "      <td>Brown</td>\n",
       "      <td>1310</td>\n",
       "      <td>89</td>\n",
       "      <td>22</td>\n",
       "      <td>13</td>\n",
       "      <td>22704</td>\n",
       "      <td>94</td>\n",
       "    </tr>\n",
       "    <tr>\n",
       "      <th>1</th>\n",
       "      <td>CalTech</td>\n",
       "      <td>1415</td>\n",
       "      <td>100</td>\n",
       "      <td>25</td>\n",
       "      <td>6</td>\n",
       "      <td>63575</td>\n",
       "      <td>81</td>\n",
       "    </tr>\n",
       "    <tr>\n",
       "      <th>2</th>\n",
       "      <td>CMU</td>\n",
       "      <td>1260</td>\n",
       "      <td>62</td>\n",
       "      <td>59</td>\n",
       "      <td>9</td>\n",
       "      <td>25026</td>\n",
       "      <td>72</td>\n",
       "    </tr>\n",
       "    <tr>\n",
       "      <th>3</th>\n",
       "      <td>Columbia</td>\n",
       "      <td>1310</td>\n",
       "      <td>76</td>\n",
       "      <td>24</td>\n",
       "      <td>12</td>\n",
       "      <td>31510</td>\n",
       "      <td>88</td>\n",
       "    </tr>\n",
       "    <tr>\n",
       "      <th>4</th>\n",
       "      <td>Cornell</td>\n",
       "      <td>1280</td>\n",
       "      <td>83</td>\n",
       "      <td>33</td>\n",
       "      <td>13</td>\n",
       "      <td>21864</td>\n",
       "      <td>90</td>\n",
       "    </tr>\n",
       "  </tbody>\n",
       "</table>\n",
       "</div>"
      ],
      "text/plain": [
       "       Univ   SAT  Top10  Accept  SFRatio  Expenses  GradRate\n",
       "0     Brown  1310     89      22       13     22704        94\n",
       "1   CalTech  1415    100      25        6     63575        81\n",
       "2       CMU  1260     62      59        9     25026        72\n",
       "3  Columbia  1310     76      24       12     31510        88\n",
       "4   Cornell  1280     83      33       13     21864        90"
      ]
     },
     "execution_count": 4,
     "metadata": {},
     "output_type": "execute_result"
    }
   ],
   "source": [
    "uni.head()\n"
   ]
  },
  {
   "cell_type": "code",
   "execution_count": 5,
   "metadata": {},
   "outputs": [],
   "source": [
    "\n",
    "from sklearn.decomposition import PCA\n",
    "import matplotlib.pyplot as plt\n",
    "from sklearn.preprocessing import scale \n"
   ]
  },
  {
   "cell_type": "code",
   "execution_count": 12,
   "metadata": {},
   "outputs": [
    {
     "name": "stderr",
     "output_type": "stream",
     "text": [
      "<ipython-input-12-8ba95b7e3eb2>:2: UserWarning: Pandas doesn't allow columns to be created via a new attribute name - see https://pandas.pydata.org/pandas-docs/stable/indexing.html#attribute-access\n",
      "  uni.data=uni\n"
     ]
    },
    {
     "data": {
      "text/html": [
       "<div>\n",
       "<style scoped>\n",
       "    .dataframe tbody tr th:only-of-type {\n",
       "        vertical-align: middle;\n",
       "    }\n",
       "\n",
       "    .dataframe tbody tr th {\n",
       "        vertical-align: top;\n",
       "    }\n",
       "\n",
       "    .dataframe thead th {\n",
       "        text-align: right;\n",
       "    }\n",
       "</style>\n",
       "<table border=\"1\" class=\"dataframe\">\n",
       "  <thead>\n",
       "    <tr style=\"text-align: right;\">\n",
       "      <th></th>\n",
       "      <th>SAT</th>\n",
       "      <th>Top10</th>\n",
       "      <th>Accept</th>\n",
       "      <th>SFRatio</th>\n",
       "      <th>Expenses</th>\n",
       "      <th>GradRate</th>\n",
       "    </tr>\n",
       "  </thead>\n",
       "  <tbody>\n",
       "    <tr>\n",
       "      <th>0</th>\n",
       "      <td>1310</td>\n",
       "      <td>89</td>\n",
       "      <td>22</td>\n",
       "      <td>13</td>\n",
       "      <td>22704</td>\n",
       "      <td>94</td>\n",
       "    </tr>\n",
       "    <tr>\n",
       "      <th>1</th>\n",
       "      <td>1415</td>\n",
       "      <td>100</td>\n",
       "      <td>25</td>\n",
       "      <td>6</td>\n",
       "      <td>63575</td>\n",
       "      <td>81</td>\n",
       "    </tr>\n",
       "    <tr>\n",
       "      <th>2</th>\n",
       "      <td>1260</td>\n",
       "      <td>62</td>\n",
       "      <td>59</td>\n",
       "      <td>9</td>\n",
       "      <td>25026</td>\n",
       "      <td>72</td>\n",
       "    </tr>\n",
       "    <tr>\n",
       "      <th>3</th>\n",
       "      <td>1310</td>\n",
       "      <td>76</td>\n",
       "      <td>24</td>\n",
       "      <td>12</td>\n",
       "      <td>31510</td>\n",
       "      <td>88</td>\n",
       "    </tr>\n",
       "    <tr>\n",
       "      <th>4</th>\n",
       "      <td>1280</td>\n",
       "      <td>83</td>\n",
       "      <td>33</td>\n",
       "      <td>13</td>\n",
       "      <td>21864</td>\n",
       "      <td>90</td>\n",
       "    </tr>\n",
       "  </tbody>\n",
       "</table>\n",
       "</div>"
      ],
      "text/plain": [
       "    SAT  Top10  Accept  SFRatio  Expenses  GradRate\n",
       "0  1310     89      22       13     22704        94\n",
       "1  1415    100      25        6     63575        81\n",
       "2  1260     62      59        9     25026        72\n",
       "3  1310     76      24       12     31510        88\n",
       "4  1280     83      33       13     21864        90"
      ]
     },
     "execution_count": 12,
     "metadata": {},
     "output_type": "execute_result"
    }
   ],
   "source": [
    "# Considering only numerical data \n",
    "uni.data=uni\n",
    "uni.data.head()\n"
   ]
  },
  {
   "cell_type": "code",
   "execution_count": 14,
   "metadata": {},
   "outputs": [],
   "source": [
    "# Normalizing the numerical data \n",
    "uni_normal = scale(uni.data)\n"
   ]
  },
  {
   "cell_type": "code",
   "execution_count": 15,
   "metadata": {},
   "outputs": [],
   "source": [
    "pca = PCA(n_components = 6)\n",
    "pca_values = pca.fit_transform(uni_normal)\n"
   ]
  },
  {
   "cell_type": "code",
   "execution_count": 16,
   "metadata": {},
   "outputs": [
    {
     "data": {
      "text/plain": [
       "array([0.76868084, 0.13113602, 0.04776031, 0.02729668, 0.0207177 ,\n",
       "       0.00440844])"
      ]
     },
     "execution_count": 16,
     "metadata": {},
     "output_type": "execute_result"
    }
   ],
   "source": [
    "# The amount of variance that each PCA explains is \n",
    "var = pca.explained_variance_ratio_\n",
    "var"
   ]
  },
  {
   "cell_type": "code",
   "execution_count": 17,
   "metadata": {},
   "outputs": [
    {
     "data": {
      "text/plain": [
       "array([-0.45774863, -0.42714437,  0.42430805,  0.39064831, -0.36252316,\n",
       "       -0.37940403])"
      ]
     },
     "execution_count": 17,
     "metadata": {},
     "output_type": "execute_result"
    }
   ],
   "source": [
    "pca.components_[0]\n"
   ]
  },
  {
   "cell_type": "code",
   "execution_count": 18,
   "metadata": {},
   "outputs": [
    {
     "data": {
      "text/plain": [
       "array([ 76.87,  89.98,  94.76,  97.49,  99.56, 100.  ])"
      ]
     },
     "execution_count": 18,
     "metadata": {},
     "output_type": "execute_result"
    }
   ],
   "source": [
    "# Cumulative variance \n",
    "\n",
    "var1 = np.cumsum(np.round(var,decimals = 4)*100)\n",
    "var1"
   ]
  },
  {
   "cell_type": "code",
   "execution_count": 19,
   "metadata": {},
   "outputs": [
    {
     "data": {
      "text/plain": [
       "[<matplotlib.lines.Line2D at 0x1fa199fecd0>]"
      ]
     },
     "execution_count": 19,
     "metadata": {},
     "output_type": "execute_result"
    },
    {
     "data": {
      "image/png": "[encoded data removed]",
      "text/plain": [
       "<Figure size 432x288 with 1 Axes>"
      ]
     },
     "metadata": {
      "needs_background": "light"
     },
     "output_type": "display_data"
    }
   ],
   "source": [
    "# Variance plot for PCA components obtained \n",
    "plt.plot(var1,color=\"red\")\n"
   ]
  },
  {
   "cell_type": "code",
   "execution_count": 23,
   "metadata": {},
   "outputs": [
    {
     "data": {
      "text/plain": [
       "<matplotlib.collections.PathCollection at 0x1fa19cbc6a0>"
      ]
     },
     "execution_count": 23,
     "metadata": {},
     "output_type": "execute_result"
    },
    {
     "data": {
      "image/png": "[encoded data removed]",
      "text/plain": [
       "<Figure size 432x288 with 1 Axes>"
      ]
     },
     "metadata": {
      "needs_background": "light"
     },
     "output_type": "display_data"
    }
   ],
   "source": [
    "# plot between PCA1 and PCA2 \n",
    "x = pca_values[:,0]\n",
    "y = pca_values[:,1]\n",
    "z = pca_values[:2:3]\n",
    "plt.scatter(x,y,color=[\"red\"])\n"
   ]
  },
  {
   "cell_type": "code",
   "execution_count": 24,
   "metadata": {},
   "outputs": [],
   "source": [
    "################### Clustering  ##########################\n",
    "new_df = pd.DataFrame(pca_values[:,0:4])\n"
   ]
  },
  {
   "cell_type": "code",
   "execution_count": 25,
   "metadata": {},
   "outputs": [],
   "source": [
    "from sklearn.cluster import KMeans\n"
   ]
  },
  {
   "cell_type": "code",
   "execution_count": 26,
   "metadata": {},
   "outputs": [
    {
     "data": {
      "text/plain": [
       "KMeans(n_clusters=3)"
      ]
     },
     "execution_count": 26,
     "metadata": {},
     "output_type": "execute_result"
    }
   ],
   "source": [
    "kmeans = KMeans(n_clusters = 3)\n",
    "kmeans.fit(new_df)"
   ]
  },
  {
   "cell_type": "code",
   "execution_count": 27,
   "metadata": {},
   "outputs": [
    {
     "data": {
      "text/plain": [
       "array([2, 0, 2, 2, 2, 0, 0, 2, 0, 0, 0, 2, 2, 1, 0, 1, 0, 1, 2, 2, 1, 2,\n",
       "       2, 1, 0])"
      ]
     },
     "execution_count": 27,
     "metadata": {},
     "output_type": "execute_result"
    }
   ],
   "source": [
    "kmeans.labels_\n"
   ]
  }
 ],
 "metadata": {
  "kernelspec": {
   "display_name": "Python 3",
   "language": "python",
   "name": "python3"
  },
  "language_info": {
   "codemirror_mode": {
    "name": "ipython",
    "version": 3
   },
   "file_extension": ".py",
   "mimetype": "text/x-python",
   "name": "python",
   "nbconvert_exporter": "python",
   "pygments_lexer": "ipython3",
   "version": "3.8.5"
  }
 },
 "nbformat": 4,
 "nbformat_minor": 4
}
