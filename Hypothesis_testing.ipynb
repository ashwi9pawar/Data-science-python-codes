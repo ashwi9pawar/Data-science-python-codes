{
 "cells": [
  {
   "cell_type": "code",
   "execution_count": 1,
   "metadata": {},
   "outputs": [],
   "source": [
    "#importing the pacakages which are required \n",
    "import pandas as pd\n",
    "import numpy as np\n",
    "import scipy \n",
    "from scipy import stats\n",
    "import statsmodels.api as sm\n"
   ]
  },
  {
   "cell_type": "code",
   "execution_count": 6,
   "metadata": {},
   "outputs": [],
   "source": [
    "#install plotly package \n",
    "import plotly as py\n",
    "import plotly.graph_objs as go\n",
    "from plotly.tools import FigureFactory as FF"
   ]
  },
  {
   "cell_type": "markdown",
   "metadata": {},
   "source": [
    "## Mann-whiteny test"
   ]
  },
  {
   "cell_type": "code",
   "execution_count": 7,
   "metadata": {},
   "outputs": [],
   "source": [
    "data=pd.read_csv(\"Mann_whitney.csv\")\n"
   ]
  },
  {
   "cell_type": "code",
   "execution_count": 9,
   "metadata": {},
   "outputs": [
    {
     "data": {
      "text/plain": [
       "Index(['Without additive', 'With Additive'], dtype='object')"
      ]
     },
     "execution_count": 9,
     "metadata": {},
     "output_type": "execute_result"
    }
   ],
   "source": [
    "data.columns"
   ]
  },
  {
   "cell_type": "code",
   "execution_count": 17,
   "metadata": {},
   "outputs": [],
   "source": [
    "data.rename(columns={'Without additive':'Without_additive','With Additive':'With_Additive'}, inplace=True)"
   ]
  },
  {
   "cell_type": "code",
   "execution_count": 18,
   "metadata": {},
   "outputs": [
    {
     "data": {
      "text/plain": [
       "Index(['Without_additive', 'With_Additive'], dtype='object')"
      ]
     },
     "execution_count": 18,
     "metadata": {},
     "output_type": "execute_result"
    }
   ],
   "source": [
    "data.columns"
   ]
  },
  {
   "cell_type": "code",
   "execution_count": 19,
   "metadata": {},
   "outputs": [
    {
     "name": "stdout",
     "output_type": "stream",
     "text": [
      "p-value is: 0.501198410987854\n"
     ]
    }
   ],
   "source": [
    "#doing Normality test for Mann whitney\n",
    "#without additive Normality test\n",
    "withoutAdditive_data=stats.shapiro(data.Without_additive)\n",
    "withoutAdditive_pValue=withoutAdditive_data[1]\n",
    "print(\"p-value is: \"+str(withoutAdditive_pValue))\n"
   ]
  },
  {
   "cell_type": "code",
   "execution_count": 20,
   "metadata": {},
   "outputs": [
    {
     "name": "stdout",
     "output_type": "stream",
     "text": [
      "p-value is: 0.04104858636856079\n"
     ]
    }
   ],
   "source": [
    "#Additive normality test\n",
    "Additive=stats.shapiro(data.With_Additive)\n",
    "Additive_pValue=Additive[1]\n",
    "print(\"p-value is: \"+str(Additive_pValue))\n"
   ]
  },
  {
   "cell_type": "code",
   "execution_count": 21,
   "metadata": {},
   "outputs": [
    {
     "data": {
      "text/plain": [
       "MannwhitneyuResult(statistic=39.5, pvalue=0.22286555210078546)"
      ]
     },
     "execution_count": 21,
     "metadata": {},
     "output_type": "execute_result"
    }
   ],
   "source": [
    "#Doing Mann-Whiteny test\n",
    "from scipy.stats import mannwhitneyu\n",
    "mannwhitneyu(data.Without_additive, data.With_Additive)"
   ]
  },
  {
   "cell_type": "markdown",
   "metadata": {},
   "source": [
    "## 2 Sample T test"
   ]
  },
  {
   "cell_type": "code",
   "execution_count": 22,
   "metadata": {},
   "outputs": [],
   "source": [
    "#Creditcard Promotion data set \n",
    "promotion=pd.read_csv(\"Promotion.csv\")"
   ]
  },
  {
   "cell_type": "code",
   "execution_count": 23,
   "metadata": {},
   "outputs": [],
   "source": [
    "#Ho: Avg of purchases made by FIW < = Avg purchases made by SC =>default/ current/ no action\n",
    "#Ha: Avg of purchases made by FIW > Avg purchases made by SC =>take action \n",
    "#Doing Normality test \n",
    "#We consider Ho: Data are normal\n",
    "#We consider Ha: Data are not normal\n"
   ]
  },
  {
   "cell_type": "code",
   "execution_count": 24,
   "metadata": {},
   "outputs": [
    {
     "data": {
      "text/html": [
       "<div>\n",
       "<style scoped>\n",
       "    .dataframe tbody tr th:only-of-type {\n",
       "        vertical-align: middle;\n",
       "    }\n",
       "\n",
       "    .dataframe tbody tr th {\n",
       "        vertical-align: top;\n",
       "    }\n",
       "\n",
       "    .dataframe thead th {\n",
       "        text-align: right;\n",
       "    }\n",
       "</style>\n",
       "<table border=\"1\" class=\"dataframe\">\n",
       "  <thead>\n",
       "    <tr style=\"text-align: right;\">\n",
       "      <th></th>\n",
       "      <th>Credit</th>\n",
       "      <th>Promotion.Type</th>\n",
       "      <th>InterestRateWaiver</th>\n",
       "      <th>StandardPromotion</th>\n",
       "    </tr>\n",
       "  </thead>\n",
       "  <tbody>\n",
       "    <tr>\n",
       "      <th>0</th>\n",
       "      <td>3354.34</td>\n",
       "      <td>Interest Rate Waiver</td>\n",
       "      <td>1989.10</td>\n",
       "      <td>1272.25</td>\n",
       "    </tr>\n",
       "    <tr>\n",
       "      <th>1</th>\n",
       "      <td>3856.25</td>\n",
       "      <td>Interest Rate Waiver</td>\n",
       "      <td>1808.38</td>\n",
       "      <td>1250.38</td>\n",
       "    </tr>\n",
       "    <tr>\n",
       "      <th>2</th>\n",
       "      <td>3632.23</td>\n",
       "      <td>Interest Rate Waiver</td>\n",
       "      <td>1153.75</td>\n",
       "      <td>1474.78</td>\n",
       "    </tr>\n",
       "    <tr>\n",
       "      <th>3</th>\n",
       "      <td>3655.30</td>\n",
       "      <td>Interest Rate Waiver</td>\n",
       "      <td>1745.64</td>\n",
       "      <td>2064.89</td>\n",
       "    </tr>\n",
       "    <tr>\n",
       "      <th>4</th>\n",
       "      <td>2032.94</td>\n",
       "      <td>Standard Promotion</td>\n",
       "      <td>1008.24</td>\n",
       "      <td>2030.87</td>\n",
       "    </tr>\n",
       "  </tbody>\n",
       "</table>\n",
       "</div>"
      ],
      "text/plain": [
       "    Credit        Promotion.Type  InterestRateWaiver  StandardPromotion\n",
       "0  3354.34  Interest Rate Waiver             1989.10            1272.25\n",
       "1  3856.25  Interest Rate Waiver             1808.38            1250.38\n",
       "2  3632.23  Interest Rate Waiver             1153.75            1474.78\n",
       "3  3655.30  Interest Rate Waiver             1745.64            2064.89\n",
       "4  2032.94    Standard Promotion             1008.24            2030.87"
      ]
     },
     "execution_count": 24,
     "metadata": {},
     "output_type": "execute_result"
    }
   ],
   "source": [
    "promotion.head()"
   ]
  },
  {
   "cell_type": "code",
   "execution_count": 25,
   "metadata": {},
   "outputs": [
    {
     "name": "stdout",
     "output_type": "stream",
     "text": [
      "p-value is: 0.22453102469444275\n"
     ]
    }
   ],
   "source": [
    "Promotion=stats.shapiro(promotion.InterestRateWaiver)\n",
    "Promotion_pValue=Promotion[1]\n",
    "print(\"p-value is: \"+str(Promotion_pValue))\n"
   ]
  },
  {
   "cell_type": "code",
   "execution_count": 26,
   "metadata": {},
   "outputs": [
    {
     "name": "stdout",
     "output_type": "stream",
     "text": [
      "p-value is: 0.22453102469444275\n"
     ]
    }
   ],
   "source": [
    "SDPromotion=stats.shapiro(promotion.StandardPromotion)\n",
    "SDPromotion_pValue=Promotion[1]\n",
    "print(\"p-value is: \"+str(SDPromotion_pValue))"
   ]
  },
  {
   "cell_type": "code",
   "execution_count": 27,
   "metadata": {},
   "outputs": [
    {
     "data": {
      "text/plain": [
       "LeveneResult(statistic=1.1334674473666406, pvalue=0.2875528565130808)"
      ]
     },
     "execution_count": 27,
     "metadata": {},
     "output_type": "execute_result"
    }
   ],
   "source": [
    "#we can proceed with the model \n",
    "#Varience test \n",
    "scipy.stats.levene(promotion.InterestRateWaiver, promotion.StandardPromotion)\n"
   ]
  },
  {
   "cell_type": "code",
   "execution_count": 28,
   "metadata": {},
   "outputs": [
    {
     "data": {
      "text/plain": [
       "Ttest_indResult(statistic=2.260425163136941, pvalue=0.02422584468584312)"
      ]
     },
     "execution_count": 28,
     "metadata": {},
     "output_type": "execute_result"
    }
   ],
   "source": [
    "#2 Sample T test \n",
    "scipy.stats.ttest_ind(promotion.InterestRateWaiver,promotion.StandardPromotion)\n"
   ]
  },
  {
   "cell_type": "code",
   "execution_count": 29,
   "metadata": {},
   "outputs": [
    {
     "data": {
      "text/plain": [
       "Ttest_indResult(statistic=2.260425163136941, pvalue=0.02422584468584312)"
      ]
     },
     "execution_count": 29,
     "metadata": {},
     "output_type": "execute_result"
    }
   ],
   "source": [
    "scipy.stats.ttest_ind(promotion.InterestRateWaiver,promotion.StandardPromotion,equal_var = True)"
   ]
  },
  {
   "cell_type": "markdown",
   "metadata": {},
   "source": [
    "## One-Way Anova"
   ]
  },
  {
   "cell_type": "code",
   "execution_count": 30,
   "metadata": {},
   "outputs": [],
   "source": [
    "#Importing the data set of contractrenewal \n",
    "from statsmodels.formula.api import ols\n"
   ]
  },
  {
   "cell_type": "code",
   "execution_count": 31,
   "metadata": {},
   "outputs": [],
   "source": [
    "cof=pd.read_csv(\"ContractRenewal_Data(unstacked).csv\")"
   ]
  },
  {
   "cell_type": "code",
   "execution_count": 32,
   "metadata": {},
   "outputs": [],
   "source": [
    "cof.columns=\"SupplierA\",\"SupplierB\",\"SupplierC\"\n"
   ]
  },
  {
   "cell_type": "code",
   "execution_count": 33,
   "metadata": {},
   "outputs": [
    {
     "name": "stdout",
     "output_type": "stream",
     "text": [
      "p-value is: 0.8961844444274902\n"
     ]
    }
   ],
   "source": [
    "#Normality test \n",
    "SupA=stats.shapiro(cof.SupplierA)    #Shapiro Test\n",
    "SupA_pValue=SupA[1]\n",
    "print(\"p-value is: \"+str(SupA_pValue))"
   ]
  },
  {
   "cell_type": "code",
   "execution_count": 34,
   "metadata": {},
   "outputs": [
    {
     "name": "stdout",
     "output_type": "stream",
     "text": [
      "p-value is: 0.6483432650566101\n"
     ]
    }
   ],
   "source": [
    "SupB=stats.shapiro(cof.SupplierB)\n",
    "SupB_pValue=SupB[1]\n",
    "print(\"p-value is: \"+str(SupB_pValue))"
   ]
  },
  {
   "cell_type": "code",
   "execution_count": 35,
   "metadata": {},
   "outputs": [
    {
     "name": "stdout",
     "output_type": "stream",
     "text": [
      "p-value is: 0.5719023942947388\n"
     ]
    }
   ],
   "source": [
    "SupC=stats.shapiro(cof.SupplierC)\n",
    "SupC_pValue=SupC[1]\n",
    "print(\"p-value is: \"+str(SupC_pValue))"
   ]
  },
  {
   "cell_type": "code",
   "execution_count": 39,
   "metadata": {},
   "outputs": [
    {
     "data": {
      "text/plain": [
       "LeveneResult(statistic=0.03382395609148779, pvalue=0.8542383784793752)"
      ]
     },
     "execution_count": 39,
     "metadata": {},
     "output_type": "execute_result"
    }
   ],
   "source": [
    "#Varience Test \n",
    "scipy.stats.levene(cof.SupplierA, cof.SupplierB)\n",
    "\n"
   ]
  },
  {
   "cell_type": "code",
   "execution_count": 37,
   "metadata": {},
   "outputs": [
    {
     "data": {
      "text/plain": [
       "LeveneResult(statistic=0.24333902699144816, pvalue=0.6222596854892893)"
      ]
     },
     "execution_count": 37,
     "metadata": {},
     "output_type": "execute_result"
    }
   ],
   "source": [
    "scipy.stats.levene(cof.SupplierB, cof.SupplierC)"
   ]
  },
  {
   "cell_type": "code",
   "execution_count": 38,
   "metadata": {},
   "outputs": [
    {
     "data": {
      "text/plain": [
       "LeveneResult(statistic=0.4712013339466693, pvalue=0.49310323292578306)"
      ]
     },
     "execution_count": 38,
     "metadata": {},
     "output_type": "execute_result"
    }
   ],
   "source": [
    "scipy.stats.levene(cof.SupplierC, cof.SupplierA)"
   ]
  },
  {
   "cell_type": "code",
   "execution_count": 40,
   "metadata": {},
   "outputs": [
    {
     "name": "stdout",
     "output_type": "stream",
     "text": [
      "              df      sum_sq   mean_sq         F    PR(>F)\n",
      "SupplierB    1.0    0.943234  0.943234  0.519896  0.472324\n",
      "SupplierC    1.0    3.344433  3.344433  1.843401  0.177166\n",
      "Residual   117.0  212.269992  1.814273       NaN       NaN\n"
     ]
    }
   ],
   "source": [
    "#One-Way Anova\n",
    "\n",
    "mod=ols('SupplierA~SupplierB+SupplierC',data=cof).fit()\n",
    "aov_table=sm.stats.anova_lm(mod,type=2)\n",
    "print(aov_table)"
   ]
  },
  {
   "cell_type": "markdown",
   "metadata": {},
   "source": [
    "## Chi-Square test"
   ]
  },
  {
   "cell_type": "code",
   "execution_count": 42,
   "metadata": {},
   "outputs": [],
   "source": [
    "#Importing the data set of bahaman \n",
    "Bahaman=pd.read_csv(\"Bahaman.csv\")"
   ]
  },
  {
   "cell_type": "code",
   "execution_count": 43,
   "metadata": {},
   "outputs": [
    {
     "data": {
      "text/html": [
       "<div>\n",
       "<style scoped>\n",
       "    .dataframe tbody tr th:only-of-type {\n",
       "        vertical-align: middle;\n",
       "    }\n",
       "\n",
       "    .dataframe tbody tr th {\n",
       "        vertical-align: top;\n",
       "    }\n",
       "\n",
       "    .dataframe thead th {\n",
       "        text-align: right;\n",
       "    }\n",
       "</style>\n",
       "<table border=\"1\" class=\"dataframe\">\n",
       "  <thead>\n",
       "    <tr style=\"text-align: right;\">\n",
       "      <th>Country</th>\n",
       "      <th>Bangladesh</th>\n",
       "      <th>China</th>\n",
       "      <th>India</th>\n",
       "      <th>Srilanka</th>\n",
       "    </tr>\n",
       "    <tr>\n",
       "      <th>Defective</th>\n",
       "      <th></th>\n",
       "      <th></th>\n",
       "      <th></th>\n",
       "      <th></th>\n",
       "    </tr>\n",
       "  </thead>\n",
       "  <tbody>\n",
       "    <tr>\n",
       "      <th>0</th>\n",
       "      <td>183</td>\n",
       "      <td>179</td>\n",
       "      <td>175</td>\n",
       "      <td>178</td>\n",
       "    </tr>\n",
       "    <tr>\n",
       "      <th>1</th>\n",
       "      <td>17</td>\n",
       "      <td>21</td>\n",
       "      <td>25</td>\n",
       "      <td>22</td>\n",
       "    </tr>\n",
       "  </tbody>\n",
       "</table>\n",
       "</div>"
      ],
      "text/plain": [
       "Country    Bangladesh  China  India  Srilanka\n",
       "Defective                                    \n",
       "0                 183    179    175       178\n",
       "1                  17     21     25        22"
      ]
     },
     "execution_count": 43,
     "metadata": {},
     "output_type": "execute_result"
    }
   ],
   "source": [
    "count=pd.crosstab(Bahaman[\"Defective\"],Bahaman[\"Country\"])\n",
    "count\n"
   ]
  },
  {
   "cell_type": "code",
   "execution_count": 44,
   "metadata": {},
   "outputs": [
    {
     "name": "stdout",
     "output_type": "stream",
     "text": [
      "p-value is: 0.6315243037546223\n"
     ]
    }
   ],
   "source": [
    "Chisquares_results=scipy.stats.chi2_contingency(count)\n",
    "Chi_pValue=Chisquares_results[1]\n",
    "print(\"p-value is: \"+str(Chi_pValue))"
   ]
  },
  {
   "cell_type": "markdown",
   "metadata": {},
   "source": [
    "## 2 proportion test"
   ]
  },
  {
   "cell_type": "code",
   "execution_count": 47,
   "metadata": {},
   "outputs": [],
   "source": [
    "two_prop_test=pd.read_csv(\"JohnyTalkers.csv\")"
   ]
  },
  {
   "cell_type": "code",
   "execution_count": 48,
   "metadata": {},
   "outputs": [],
   "source": [
    "#importing packages to do 2 proportion test\n",
    "from statsmodels.stats.proportion import proportions_ztest"
   ]
  },
  {
   "cell_type": "code",
   "execution_count": 49,
   "metadata": {},
   "outputs": [],
   "source": [
    "#we do the cross table and see How many adults or children are purchasing\n",
    "tab = two_prop_test.groupby(['Person', 'Icecream']).size()"
   ]
  },
  {
   "cell_type": "code",
   "execution_count": 50,
   "metadata": {},
   "outputs": [],
   "source": [
    "count = np.array([58, 152]) #How many adults and childeren are purchasing\n",
    "nobs = np.array([480, 740]) #Total number of adults and childern are there \n"
   ]
  },
  {
   "cell_type": "code",
   "execution_count": 51,
   "metadata": {},
   "outputs": [],
   "source": [
    "stat, pval = proportions_ztest(count, nobs,alternative='two-sided') "
   ]
  },
  {
   "cell_type": "code",
   "execution_count": 52,
   "metadata": {},
   "outputs": [],
   "source": [
    "#Alternative The alternative hypothesis can be either two-sided or one of the one- sided tests\n",
    "#smaller means that the alternative hypothesis is prop < value\n",
    "#larger means prop > value."
   ]
  },
  {
   "cell_type": "code",
   "execution_count": 53,
   "metadata": {},
   "outputs": [
    {
     "name": "stdout",
     "output_type": "stream",
     "text": [
      "0.000\n"
     ]
    }
   ],
   "source": [
    "print('{0:0.3f}'.format(pval))"
   ]
  },
  {
   "cell_type": "code",
   "execution_count": 54,
   "metadata": {},
   "outputs": [],
   "source": [
    "# two. sided -> means checking for equal proportions of Adults and children under purchased\n",
    "# p-value = 6.261e-05 < 0.05 accept alternate hypothesis i.e.\n",
    "# Unequal proportions \n",
    "\n"
   ]
  },
  {
   "cell_type": "code",
   "execution_count": 55,
   "metadata": {},
   "outputs": [
    {
     "name": "stdout",
     "output_type": "stream",
     "text": [
      "1.000\n"
     ]
    }
   ],
   "source": [
    "stat, pval = proportions_ztest(count, nobs,alternative='larger')\n",
    "print('{0:0.3f}'.format(pval))"
   ]
  },
  {
   "cell_type": "code",
   "execution_count": 56,
   "metadata": {},
   "outputs": [],
   "source": [
    "# Ha -> Proportions of Adults > Proportions of Children\n",
    "# Ho -> Proportions of Children > Proportions of Adults\n",
    "# p-value = 0.999 >0.05 accept null hypothesis \n",
    "# so proportion of Children > proportion of children \n",
    "# Do not launch the ice cream shop"
   ]
  }
 ],
 "metadata": {
  "kernelspec": {
   "display_name": "Python 3",
   "language": "python",
   "name": "python3"
  },
  "language_info": {
   "codemirror_mode": {
    "name": "ipython",
    "version": 3
   },
   "file_extension": ".py",
   "mimetype": "text/x-python",
   "name": "python",
   "nbconvert_exporter": "python",
   "pygments_lexer": "ipython3",
   "version": "3.8.5"
  }
 },
 "nbformat": 4,
 "nbformat_minor": 4
}
